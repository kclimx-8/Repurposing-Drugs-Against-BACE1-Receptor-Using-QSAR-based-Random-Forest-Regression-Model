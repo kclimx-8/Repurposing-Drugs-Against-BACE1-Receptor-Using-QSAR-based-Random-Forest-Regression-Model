{
  "nbformat": 4,
  "nbformat_minor": 0,
  "metadata": {
    "colab": {
      "provenance": []
    },
    "kernelspec": {
      "name": "python3",
      "display_name": "Python 3"
    },
    "language_info": {
      "name": "python"
    }
  },
  "cells": [
    {
      "cell_type": "code",
      "execution_count": null,
      "metadata": {
        "id": "HQLu2loEFEUX"
      },
      "outputs": [],
      "source": [
        "!pip install rdkit\n",
        "from rdkit import Chem\n",
        "from rdkit.Chem import Draw\n",
        "import os\n",
        "from rdkit.Chem.Draw import rdMolDraw2D\n",
        "from IPython.display import Image, display"
      ]
    },
    {
      "cell_type": "code",
      "source": [
        "smarts_list = [\n",
        "    '[!#1]F',\n",
        "    '[!#1]C([!#1])([!#1])[!#1]',\n",
        "    'NCc1ccccc1',\n",
        "    'CC(N)c1ccccc1',\n",
        "    '[!#1][CH2][!#1]',\n",
        "    '[!#1][CH]([!#1])[!#1]',\n",
        "    'Cc1cccnc1',\n",
        "    'C1CC1',\n",
        "    'C=N',\n",
        "    '[!#1]c1[cH][cH]c([!#1])c([!#1])[cH]1',\n",
        "    'CC(C)CN',\n",
        "    '[!#1]O[!#1]',\n",
        "    'Cc1ccccn1',\n",
        "    'CCOC',\n",
        "    'CC(C)O',\n",
        "    'CCN=C',\n",
        "    'Cc1cccc(F)c1',\n",
        "    '[!#1]c1[cH][cH]c([!#1])[cH][cH]1',\n",
        "    'Cc1cccc(N)c1',\n",
        "    'Cc1cccc(C)c1'\n",
        "]\n",
        "\n",
        "molecules = []\n"
      ],
      "metadata": {
        "id": "YbX9kp6RFQ7G"
      },
      "execution_count": null,
      "outputs": []
    },
    {
      "cell_type": "code",
      "source": [
        "# Convert SMARTS to molecular structures\n",
        "for smarts in smarts_list:\n",
        "    mol = Chem.MolFromSmarts(smarts)\n",
        "    if mol is not None:\n",
        "        molecules.append(mol)\n",
        "    else:\n",
        "        print(f\"Failed to create molecular structure for SMARTS: {smarts}\")\n",
        "\n",
        "# Check the number of successful conversions\n",
        "print(f\"Successfully created {len(molecules)} molecular structures.\")\n"
      ],
      "metadata": {
        "id": "nTppbtOcFUoz"
      },
      "execution_count": null,
      "outputs": []
    },
    {
      "cell_type": "code",
      "source": [
        "output_dir = \"/content/drive/MyDrive/smarts\"\n"
      ],
      "metadata": {
        "id": "_7GR-DsrFWg-"
      },
      "execution_count": null,
      "outputs": []
    },
    {
      "cell_type": "code",
      "source": [
        "import os\n",
        "from rdkit import Chem\n",
        "from rdkit.Chem import Draw\n",
        "from rdkit.Chem.Draw import rdMolDraw2D\n",
        "from IPython.display import Image, display\n",
        "\n",
        "# Assuming molecules is a list of RDKit molecule objects\n",
        "for i, mol in enumerate(molecules):\n",
        "    # Define the image size and drawing options\n",
        "    img_size = (300, 300)\n",
        "    drawer = rdMolDraw2D.MolDraw2DCairo(img_size[0], img_size[1])\n",
        "\n",
        "    # Customize drawing options\n",
        "    drawer.drawOptions().bondLineWidth = 8  # Increase bond line width\n",
        "    drawer.drawOptions().padding = 0  # Adjust padding if needed\n",
        "\n",
        "    # Draw the molecule\n",
        "    rdMolDraw2D.PrepareAndDrawMolecule(drawer, mol)\n",
        "    drawer.FinishDrawing()\n",
        "\n",
        "    # Get the image as a PNG file\n",
        "    img_data = drawer.GetDrawingText()\n",
        "\n",
        "    # Save the image\n",
        "    filename = os.path.join(output_dir, f\"molecule_q{i+1}.png\")\n",
        "    with open(filename, 'wb') as f:\n",
        "        f.write(img_data)\n",
        "\n",
        "    # Display the image in the output console\n",
        "    display(Image(data=img_data))\n",
        "\n",
        "    print(f\"Saved image: {filename}\")\n"
      ],
      "metadata": {
        "id": "Dueg5wH4FbW-"
      },
      "execution_count": null,
      "outputs": []
    }
  ]
}